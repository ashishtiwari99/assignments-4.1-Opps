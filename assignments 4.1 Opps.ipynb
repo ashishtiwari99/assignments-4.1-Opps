{
 "cells": [
  {
   "cell_type": "code",
   "execution_count": 1,
   "id": "a699687a-5d93-4b3d-ae2d-0e33d19679aa",
   "metadata": {},
   "outputs": [],
   "source": [
    "class vehicle :\n",
    "    def __init__(self, name_of_vehicle , max_speed , average_of_vehicle) :\n",
    "        \n",
    "        self.__name_of_vehicle = name_of_vehicle\n",
    "        self.__max_speed = max_speed \n",
    "        self.__average_of_vehicle = 0\n",
    "        \n",
    "    def set_average_of_vehicle(self,average):\n",
    "        self.__average_of_vehicle = 0 if average < 0 else average \n",
    "        \n",
    "    def get_average_of_vehicle(self) :\n",
    "        return self.__average_of_vehicle"
   ]
  },
  {
   "cell_type": "code",
   "execution_count": 2,
   "id": "d9580c9c-da6b-41d9-8096-813c17bedf41",
   "metadata": {},
   "outputs": [],
   "source": [
    "v = vehicle(\"artiga\" , 190 , 25)"
   ]
  },
  {
   "cell_type": "code",
   "execution_count": 3,
   "id": "880e0bc7-d2c7-4077-88a8-a38f9238046c",
   "metadata": {},
   "outputs": [
    {
     "data": {
      "text/plain": [
       "'artiga'"
      ]
     },
     "execution_count": 3,
     "metadata": {},
     "output_type": "execute_result"
    }
   ],
   "source": [
    "v._vehicle__name_of_vehicle"
   ]
  },
  {
   "cell_type": "code",
   "execution_count": 4,
   "id": "ace2f04c-b246-41cc-a7d3-092c4b336c74",
   "metadata": {},
   "outputs": [
    {
     "data": {
      "text/plain": [
       "190"
      ]
     },
     "execution_count": 4,
     "metadata": {},
     "output_type": "execute_result"
    }
   ],
   "source": [
    "v._vehicle__max_speed"
   ]
  },
  {
   "cell_type": "code",
   "execution_count": 5,
   "id": "71141796-9912-4b97-9519-be83f588de62",
   "metadata": {},
   "outputs": [],
   "source": [
    "v.set_average_of_vehicle(57)"
   ]
  },
  {
   "cell_type": "code",
   "execution_count": 6,
   "id": "bb1bcdb6-7374-41cd-b9ba-2a53366c1271",
   "metadata": {},
   "outputs": [
    {
     "data": {
      "text/plain": [
       "57"
      ]
     },
     "execution_count": 6,
     "metadata": {},
     "output_type": "execute_result"
    }
   ],
   "source": [
    "v.get_average_of_vehicle()"
   ]
  },
  {
   "cell_type": "code",
   "execution_count": 7,
   "id": "718df979-defd-435d-add6-3b7477ddd73a",
   "metadata": {},
   "outputs": [],
   "source": [
    "v.set_average_of_vehicle(678)"
   ]
  },
  {
   "cell_type": "code",
   "execution_count": 8,
   "id": "3cf6bbfa-7be8-466c-b555-df9eb68c2ae2",
   "metadata": {},
   "outputs": [
    {
     "data": {
      "text/plain": [
       "678"
      ]
     },
     "execution_count": 8,
     "metadata": {},
     "output_type": "execute_result"
    }
   ],
   "source": [
    "v.get_average_of_vehicle()"
   ]
  },
  {
   "cell_type": "code",
   "execution_count": 9,
   "id": "6f03f4be-6027-4775-9bb7-79cb1d7816d6",
   "metadata": {},
   "outputs": [],
   "source": [
    "class car(vehicle):\n",
    "    def __init__(self , seating_capacity):\n",
    "        self.seating_capacity=seating_capacity\n",
    "    def return_details(self):\n",
    "        return self.name_of_vehicle , self.seating_capacity\n",
    "        "
   ]
  },
  {
   "cell_type": "code",
   "execution_count": 10,
   "id": "164da18a-e846-4324-abbe-0817d5071ce3",
   "metadata": {},
   "outputs": [],
   "source": [
    "v = vehicle(\"artiga\", 190,25)"
   ]
  },
  {
   "cell_type": "code",
   "execution_count": 11,
   "id": "e9ade7c8-ec78-488f-9d51-692b01c66a73",
   "metadata": {},
   "outputs": [],
   "source": [
    "v = car( 9)"
   ]
  },
  {
   "cell_type": "code",
   "execution_count": 12,
   "id": "b5f38b09-819a-412d-8885-b9a2cf456a61",
   "metadata": {},
   "outputs": [
    {
     "ename": "AttributeError",
     "evalue": "'car' object has no attribute '_vehicle__name_of_vehicle'",
     "output_type": "error",
     "traceback": [
      "\u001b[0;31m---------------------------------------------------------------------------\u001b[0m",
      "\u001b[0;31mAttributeError\u001b[0m                            Traceback (most recent call last)",
      "Cell \u001b[0;32mIn[12], line 1\u001b[0m\n\u001b[0;32m----> 1\u001b[0m \u001b[43mv\u001b[49m\u001b[38;5;241;43m.\u001b[39;49m\u001b[43m_vehicle__name_of_vehicle\u001b[49m\n",
      "\u001b[0;31mAttributeError\u001b[0m: 'car' object has no attribute '_vehicle__name_of_vehicle'"
     ]
    }
   ],
   "source": [
    "v._vehicle__name_of_vehicle"
   ]
  },
  {
   "cell_type": "code",
   "execution_count": 13,
   "id": "64754413-8740-41e4-ba65-b412054ed88d",
   "metadata": {},
   "outputs": [
    {
     "ename": "AttributeError",
     "evalue": "'car' object has no attribute '_car__seating_capacity'",
     "output_type": "error",
     "traceback": [
      "\u001b[0;31m---------------------------------------------------------------------------\u001b[0m",
      "\u001b[0;31mAttributeError\u001b[0m                            Traceback (most recent call last)",
      "Cell \u001b[0;32mIn[13], line 1\u001b[0m\n\u001b[0;32m----> 1\u001b[0m \u001b[43mv\u001b[49m\u001b[38;5;241;43m.\u001b[39;49m\u001b[43m_car__seating_capacity\u001b[49m\n",
      "\u001b[0;31mAttributeError\u001b[0m: 'car' object has no attribute '_car__seating_capacity'"
     ]
    }
   ],
   "source": [
    "v._car__seating_capacity"
   ]
  },
  {
   "cell_type": "code",
   "execution_count": 14,
   "id": "3a783832-f5d0-4e69-835a-dfc66539a684",
   "metadata": {},
   "outputs": [],
   "source": [
    "class class1:\n",
    "    def test_class1(self):\n",
    "        return\"this is a data science class1\""
   ]
  },
  {
   "cell_type": "code",
   "execution_count": 15,
   "id": "2976cd24-6d4a-43a0-96cb-bf17dfde7203",
   "metadata": {},
   "outputs": [],
   "source": [
    "class class2:\n",
    "    def test_class2(self):\n",
    "        return \"this is a data science calss2\""
   ]
  },
  {
   "cell_type": "code",
   "execution_count": 16,
   "id": "0a4be658-54d3-4b2c-92a5-e5d1378e0f78",
   "metadata": {},
   "outputs": [],
   "source": [
    "class class3(class1, class2):\n",
    "    pass"
   ]
  },
  {
   "cell_type": "code",
   "execution_count": 17,
   "id": "639f04d7-4368-4ac3-9e44-378f44e6509b",
   "metadata": {},
   "outputs": [],
   "source": [
    "obj_class3 = class3()"
   ]
  },
  {
   "cell_type": "code",
   "execution_count": 18,
   "id": "836f80c5-03a5-4d54-a4c8-6cc7412eccee",
   "metadata": {},
   "outputs": [
    {
     "data": {
      "text/plain": [
       "'this is a data science class1'"
      ]
     },
     "execution_count": 18,
     "metadata": {},
     "output_type": "execute_result"
    }
   ],
   "source": [
    "obj_class3.test_class1()"
   ]
  },
  {
   "cell_type": "code",
   "execution_count": 19,
   "id": "57670fdf-f961-4f77-b62f-4179f245e45f",
   "metadata": {},
   "outputs": [
    {
     "data": {
      "text/plain": [
       "'this is a data science calss2'"
      ]
     },
     "execution_count": 19,
     "metadata": {},
     "output_type": "execute_result"
    }
   ],
   "source": [
    "obj_class3.test_class2()"
   ]
  },
  {
   "cell_type": "code",
   "execution_count": 20,
   "id": "1c99676d-f497-4818-acc2-8ae995dcbf79",
   "metadata": {},
   "outputs": [],
   "source": [
    "class thar :\n",
    "    def __init__(self ,  year , make , model , speed) :\n",
    "        \n",
    "        self.__year = year\n",
    "        self.__make = make\n",
    "        self.__madel = model \n",
    "        self.__speed = 10\n",
    "    def set_speed(self, speed):\n",
    "        self.__speed = 10 if speed < 10 else speed \n",
    "        \n",
    "    def get_speed(self)  :\n",
    "        return self.__speed\n",
    "        "
   ]
  },
  {
   "cell_type": "code",
   "execution_count": 21,
   "id": "a09b5a94-4124-4ad5-a95c-9ac1d51dd318",
   "metadata": {},
   "outputs": [],
   "source": [
    "t = thar(2023, \"suzuki\" , \"dziar\", 20)"
   ]
  },
  {
   "cell_type": "code",
   "execution_count": 22,
   "id": "8b0482cd-f90e-4076-a3af-07427ff94d4c",
   "metadata": {},
   "outputs": [
    {
     "data": {
      "text/plain": [
       "2023"
      ]
     },
     "execution_count": 22,
     "metadata": {},
     "output_type": "execute_result"
    }
   ],
   "source": [
    "t._thar__year"
   ]
  },
  {
   "cell_type": "code",
   "execution_count": 23,
   "id": "3b52ada9-1df0-4551-8e88-809f5ef14291",
   "metadata": {},
   "outputs": [
    {
     "data": {
      "text/plain": [
       "'suzuki'"
      ]
     },
     "execution_count": 23,
     "metadata": {},
     "output_type": "execute_result"
    }
   ],
   "source": [
    "t._thar__make"
   ]
  },
  {
   "cell_type": "code",
   "execution_count": 24,
   "id": "997a64d6-7970-4bc3-b82a-e47f7b0caa61",
   "metadata": {},
   "outputs": [
    {
     "data": {
      "text/plain": [
       "'dziar'"
      ]
     },
     "execution_count": 24,
     "metadata": {},
     "output_type": "execute_result"
    }
   ],
   "source": [
    "t._thar__madel"
   ]
  },
  {
   "cell_type": "code",
   "execution_count": 25,
   "id": "02311457-c79d-43f6-b150-3f41fe1d5ccf",
   "metadata": {},
   "outputs": [
    {
     "data": {
      "text/plain": [
       "10"
      ]
     },
     "execution_count": 25,
     "metadata": {},
     "output_type": "execute_result"
    }
   ],
   "source": [
    "t._thar__speed"
   ]
  },
  {
   "cell_type": "code",
   "execution_count": 26,
   "id": "477ce094-a062-42e3-a376-af094d64a8e5",
   "metadata": {},
   "outputs": [],
   "source": [
    "t.set_speed(2234)"
   ]
  },
  {
   "cell_type": "code",
   "execution_count": 27,
   "id": "a3ddd227-0548-4ae6-b484-8d706a163fb6",
   "metadata": {},
   "outputs": [
    {
     "data": {
      "text/plain": [
       "2234"
      ]
     },
     "execution_count": 27,
     "metadata": {},
     "output_type": "execute_result"
    }
   ],
   "source": [
    "t.get_speed()"
   ]
  },
  {
   "cell_type": "code",
   "execution_count": 28,
   "id": "4c7a88eb-e2dc-4d53-81c1-6b0ba2feba18",
   "metadata": {},
   "outputs": [],
   "source": [
    "import abc\n",
    "class datascience:\n",
    "    \n",
    "    \n",
    "    @abc.abstractmethod\n",
    "    def students_details(self):\n",
    "        pass\n",
    "    \n",
    "    @abc.abstractmethod\n",
    "    def students_assignment(self):\n",
    "        pass\n",
    "    \n",
    "    @abc.abstractmethod\n",
    "    def student_marks(self):\n",
    "        pass"
   ]
  },
  {
   "cell_type": "code",
   "execution_count": 29,
   "id": "dbac7a29-b189-46ad-95da-07525f431af5",
   "metadata": {},
   "outputs": [],
   "source": [
    "class student_details(datascience):\n",
    "    \n",
    "    def students_details(self):\n",
    "        return\"this is 1st class for datascience\"\n",
    "    \n",
    "    def student_assignment(self):\n",
    "        return \"this is a 1st assignments of datascience\"      \n",
    "        "
   ]
  },
  {
   "cell_type": "code",
   "execution_count": 30,
   "id": "11eabfa6-b72f-4399-af39-ac51bbc8df45",
   "metadata": {},
   "outputs": [],
   "source": [
    "class data_science_masters(datascience):\n",
    "    \n",
    "    def students_details(self):\n",
    "        return \" this is return a students details for data science masters\"\n",
    "    \n",
    "    def student_assignment(self):\n",
    "        return \"this will give you a student asignment details for data science masters\""
   ]
  },
  {
   "cell_type": "code",
   "execution_count": 31,
   "id": "c9e29cbf-a75c-4da9-8e66-a91a2424982d",
   "metadata": {},
   "outputs": [
    {
     "data": {
      "text/plain": [
       "' this is return a students details for data science masters'"
      ]
     },
     "execution_count": 31,
     "metadata": {},
     "output_type": "execute_result"
    }
   ],
   "source": [
    "dsm = data_science_masters()\n",
    "dsm.students_details()"
   ]
  },
  {
   "cell_type": "code",
   "execution_count": 32,
   "id": "2108a27a-7b94-45ed-b202-ddfadf86ca32",
   "metadata": {},
   "outputs": [
    {
     "data": {
      "text/plain": [
       "'this is 1st class for datascience'"
      ]
     },
     "execution_count": 32,
     "metadata": {},
     "output_type": "execute_result"
    }
   ],
   "source": [
    "sd = student_details()\n",
    "sd.students_details()"
   ]
  },
  {
   "cell_type": "code",
   "execution_count": 33,
   "id": "55fd312b-d1f9-4d3a-b641-178ec57c215f",
   "metadata": {},
   "outputs": [
    {
     "data": {
      "text/plain": [
       "' this is return a students details for data science masters'"
      ]
     },
     "execution_count": 33,
     "metadata": {},
     "output_type": "execute_result"
    }
   ],
   "source": [
    "dsm = data_science_masters()\n",
    "dsm.students_details()"
   ]
  },
  {
   "cell_type": "code",
   "execution_count": null,
   "id": "fc5a5572-f12c-4908-82f4-19698971aa74",
   "metadata": {},
   "outputs": [],
   "source": []
  },
  {
   "cell_type": "code",
   "execution_count": null,
   "id": "ed912064-e604-4b9e-97f0-876403b99ce7",
   "metadata": {},
   "outputs": [],
   "source": []
  }
 ],
 "metadata": {
  "kernelspec": {
   "display_name": "Python 3 (ipykernel)",
   "language": "python",
   "name": "python3"
  },
  "language_info": {
   "codemirror_mode": {
    "name": "ipython",
    "version": 3
   },
   "file_extension": ".py",
   "mimetype": "text/x-python",
   "name": "python",
   "nbconvert_exporter": "python",
   "pygments_lexer": "ipython3",
   "version": "3.10.8"
  }
 },
 "nbformat": 4,
 "nbformat_minor": 5
}
